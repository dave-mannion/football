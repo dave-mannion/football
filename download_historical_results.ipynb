{
 "cells": [
  {
   "cell_type": "code",
   "execution_count": 1,
   "metadata": {},
   "outputs": [],
   "source": [
    "from bs4 import BeautifulSoup\n",
    "import pandas as pd\n",
    "import requests\n"
   ]
  },
  {
   "cell_type": "code",
   "execution_count": 2,
   "metadata": {},
   "outputs": [
    {
     "name": "stdout",
     "output_type": "stream",
     "text": [
      "HTML saved successfully.\n"
     ]
    }
   ],
   "source": [
    "\n",
    "# URL of the website\n",
    "url = \"https://m.football-lineups.com/match/503709/\"\n",
    "\n",
    "headers = {\n",
    "    \"User-Agent\": \"Mozilla/5.0 (Windows NT 10.0; Win64; x64) AppleWebKit/537.36 (KHTML, like Gecko) Chrome/110.0.0.0 Safari/537.36\"\n",
    "}\n",
    "response = requests.get(url, headers=headers)\n",
    "soup = BeautifulSoup(response.content, 'html.parser')\n",
    "\n",
    "# Check if the request was successful\n",
    "if response.status_code == 200:\n",
    "    # Save the HTML content to a file\n",
    "    with open(\"match_data.html\", \"w\", encoding=\"utf-8\") as file:\n",
    "        file.write(response.text)\n",
    "    print(\"HTML saved successfully.\")\n",
    "else:\n",
    "    print(f\"Failed to retrieve the page. Status code: {response.status_code}\")\n"
   ]
  },
  {
   "cell_type": "code",
   "execution_count": 3,
   "metadata": {},
   "outputs": [
    {
     "name": "stdout",
     "output_type": "stream",
     "text": [
      "HTML saved successfully.\n",
      "Match Information DataFrame:\n",
      "   Match Date Referee Name               Referee Link\n",
      "0  2024-11-23       Madley  /referee/2325/Andy-Madley\n",
      "\n",
      "Team Lineups DataFrame with Player Links:\n",
      "              Team      Players          Player Link\n",
      "0   Leicester City    Hermansen  /footballer/132159/\n",
      "1   Leicester City       Justin  /footballer/114670/\n",
      "2   Leicester City         Faes  /footballer/100378/\n",
      "3   Leicester City        Okoli  /footballer/133819/\n",
      "4   Leicester City  Kristiansen  /footballer/144690/\n",
      "5   Leicester City      McAteer  /footballer/156265/\n",
      "6   Leicester City        Ndidi   /footballer/80418/\n",
      "7   Leicester City      Soumaré  /footballer/106434/\n",
      "8   Leicester City        Winks   /footballer/88884/\n",
      "9   Leicester City  E Khannouss  /footballer/179376/\n",
      "10  Leicester City        Vardy   /footballer/63664/\n",
      "11         Chelsea    R Sanchez  /footballer/114744/\n",
      "12         Chelsea       Fofana  /footballer/137035/\n",
      "13         Chelsea   Badiashile  /footballer/121586/\n",
      "14         Chelsea      Colwill  /footballer/141052/\n",
      "15         Chelsea    Cucurella  /footballer/105591/\n",
      "16         Chelsea      Caicedo  /footballer/145786/\n",
      "17         Chelsea    Fernández  /footballer/134232/\n",
      "18         Chelsea      Madueke  /footballer/132520/\n",
      "19         Chelsea       Palmer  /footballer/136523/\n",
      "20         Chelsea       J elix  /footballer/112221/\n",
      "21         Chelsea      Jackson  /footballer/159207/\n"
     ]
    }
   ],
   "source": [
    "from bs4 import BeautifulSoup\n",
    "import re\n",
    "import pandas as pd\n",
    "\n",
    "\n",
    "# URL of the website\n",
    "# url = \"https://m.football-lineups.com/match/503709/\"\n",
    "url = 'https://m.football-lineups.com/match/503704/'\n",
    "\n",
    "headers = {\n",
    "    \"User-Agent\": \"Mozilla/5.0 (Windows NT 10.0; Win64; x64) AppleWebKit/537.36 (KHTML, like Gecko) Chrome/110.0.0.0 Safari/537.36\"\n",
    "}\n",
    "response = requests.get(url, headers=headers)\n",
    "soup = BeautifulSoup(response.content, 'html.parser')\n",
    "\n",
    "# Check if the request was successful\n",
    "if response.status_code == 200:\n",
    "    # Save the HTML content to a file\n",
    "    with open(\"match_data.html\", \"w\", encoding=\"utf-8\") as file:\n",
    "        file.write(response.text)\n",
    "    print(\"HTML saved successfully.\")\n",
    "else:\n",
    "    print(f\"Failed to retrieve the page. Status code: {response.status_code}\")\n",
    "\n",
    "\n",
    "# Extract match date\n",
    "match_date = None\n",
    "match_date_div = soup.find(\"div\", class_=\"inner\", style=\"text-align:center\")\n",
    "if match_date_div:\n",
    "    date_search = re.search(r\"\\d{4}-\\d{2}-\\d{2}\", match_date_div.text)\n",
    "    if date_search:\n",
    "        match_date = date_search.group()\n",
    "\n",
    "# Extract referee name and link\n",
    "referee_name = None\n",
    "referee_link = None\n",
    "referee_tag = soup.find(\"a\", href=re.compile(r\"/referee/\"))\n",
    "if referee_tag:\n",
    "    referee_name = referee_tag.text.strip()\n",
    "    referee_link = referee_tag['href'].replace('https://','')\n",
    "\n",
    "# Extract lineups of both teams with player links\n",
    "lineups = {\"Team\": [], \"Players\": [], \"Player Link\": []}\n",
    "lineup_tables = soup.find_all(\"table\", class_=\"table table-responsive table-condensed table-hover\")\n",
    "for lineup_table in lineup_tables:\n",
    "    team_header = lineup_table.find_previous(\"div\", class_=\"color-fondo\")\n",
    "    if team_header:\n",
    "        team_name = team_header.text.strip()\n",
    "        players_info = lineup_table.find_all(\"a\", href=re.compile(r\"/footballer/\"))\n",
    "        for player in players_info:\n",
    "            player_name = player.text.strip()\n",
    "            player_link = player['href'].replace('https://','')\n",
    "            lineups[\"Team\"].append(team_name)\n",
    "            lineups[\"Players\"].append(player_name)\n",
    "            lineups[\"Player Link\"].append(player_link)\n",
    "\n",
    "# Create DataFrames\n",
    "match_info_data = {\n",
    "    \"Match Date\": [match_date],\n",
    "    \"Referee Name\": [referee_name],\n",
    "    \"Referee Link\": [referee_link]\n",
    "}\n",
    "\n",
    "match_info_df = pd.DataFrame(match_info_data)\n",
    "lineups_df = pd.DataFrame(lineups)\n",
    "\n",
    "# Display DataFrames\n",
    "print(\"Match Information DataFrame:\")\n",
    "print(match_info_df)\n",
    "print(\"\\nTeam Lineups DataFrame with Player Links:\")\n",
    "print(lineups_df)\n"
   ]
  }
 ],
 "metadata": {
  "kernelspec": {
   "display_name": "football_modelling",
   "language": "python",
   "name": "python3"
  },
  "language_info": {
   "codemirror_mode": {
    "name": "ipython",
    "version": 3
   },
   "file_extension": ".py",
   "mimetype": "text/x-python",
   "name": "python",
   "nbconvert_exporter": "python",
   "pygments_lexer": "ipython3",
   "version": "3.12.7"
  }
 },
 "nbformat": 4,
 "nbformat_minor": 2
}
